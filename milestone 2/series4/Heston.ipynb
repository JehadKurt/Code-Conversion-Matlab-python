{
 "cells": [
  {
   "cell_type": "markdown",
   "id": "f8d7780c",
   "metadata": {},
   "source": [
    "## Heston model with Euler-Murayama\n",
    "\n",
    "Solve SDE for Heston model using the Euler-Maruyama with $N_0, 2*N_0,\\dots,2^L\\times N_0$ time steps. Compute strong and weak rates using overkill solution with $2^{(L+extra)}\\times N_0$ time steps and all paths generated at the same time."
   ]
  },
  {
   "cell_type": "code",
   "execution_count": 10,
   "id": "e9d67c4f",
   "metadata": {},
   "outputs": [],
   "source": [
    "import numpy as np\n",
    "import matplotlib.pyplot as plt\n",
    "import time\n",
    "def sde_heston2():\n",
    "    # solve SDE for Heston model\n",
    "    # using Euler-Maruyama with N0,2*N0,...,2^L*N0 time steps\n",
    "    # compute strong and weak rates using overkill solution with 2^(L+extra)*N0 time steps\n",
    "    # all paths generated at the same time\n",
    "    \n",
    "    N0 = 10                            # number of steps on coarsest level\n",
    "    L = 5                              # number of refinement steps\n",
    "    M = 10**4                          # number of samples\n",
    "    T = 1                              # final time\n",
    "    x0 = 10                            # initial condition for X_t\n",
    "    v0 = 0.5                           # initial value for volatility\n",
    "    extra = 3                          # extra levels of refinement for overkill solution\n",
    "    xi = 0.25\n",
    "    theta = 0.5\n",
    "    r = 0.05\n",
    "    kappa = 2\n",
    "    G = lambda x: np.maximum(11 - x, 0)\n",
    "    \n",
    "    #####################\n",
    "    tic = time.time()\n",
    "    Le = L + extra\n",
    "    Ne = N0*2**Le\n",
    "    BI = brownp(T, Ne, M)              # path of Brownian motion on finest level\n",
    "    BII = brownp(T, Ne, M)\n",
    "    YT = np.zeros((L+2, M))           # values of X_T for h=T/(N*2^l), l=0,...,Le\n",
    "    Lv = np.arange(L+1)\n",
    "    Lv = np.concatenate([Lv, [Le]])\n",
    "    # loop over levels\n",
    "    for l in range(L+2): # l=0,...,L,Le\n",
    "        le = Lv[l]\n",
    "        N = N0*2**le\n",
    "        p = 2**(Le-le)               # p = Ne/N\n",
    "        h = T/N\n",
    "        x = x0\n",
    "        v = v0\n",
    "        # loop over increments\n",
    "        for j in range(N):\n",
    "            # perform N steps of E-M method\n",
    "            idx1 = 1 + j*p\n",
    "            idx2 = 1 + (j-1)*p\n",
    "            if idx1 >= len(BI) or idx2 >= len(BI):\n",
    "                break  # terminate the loop if indices are out of bounds\n",
    "            dBI = BI[idx1, :] - BI[idx2, :]  # Brownian process increment\n",
    "            dBII = BII[idx1, :] - BII[idx2, :]  # Brownian process increment\n",
    "            x = x + r*x*h + np.multiply((np.abs(v))**0.5, np.multiply(x,dBI))  # Euler-Maruyama step\n",
    "            v = v + kappa*(theta-v)*h + xi*(np.abs(v)**0.5)*dBII  # Euler-Maruyama step\n",
    "        #\n",
    "        YT[l, :] = x               # values of X_T\n",
    "    \n",
    "    Ys = G(YT)                     # compute payoffs\n",
    "    YTe = np.abs(YT[0:L+1, :] - np.tile(YT[L+1, :], (L+1, 1)))  # errors for XT compared to overkill solution\n",
    "    YTem = np.mean(YTe, axis=1)   # mean errors for strong convergence\n",
    "    YTem2 = np.sqrt(np.sum(YTe**2, axis=1))                    # mean errors for strong convergence\n",
    "    Ym = np.mean(Ys, axis=1)      # sample means for Y\n",
    "    est_var = np.var(Ys[0:-1, :], ddof=1, axis=1)\n",
    "    \n",
    "    AM = Ym[0:-1] - 1.96*np.sqrt(est_var/M)  # based on CLT.\n",
    "    BM = Ym[:-1] + 1.96*np.sqrt(est_var/M) # based on CLT.\n",
    "    hv = T/(N0*2**(np.arange(0, L+1))) # vector of h values\n",
    "    hL = hv[-1]\n",
    "    p = hv[0]/hL\n",
    "\n",
    "    print('CLT confidence interval')\n",
    "    print(np.array([AM, BM]).T)\n",
    "\n",
    "    # Plots\n",
    "    fig, ax = plt.subplots()\n",
    "    ax.loglog(hv, YTem2, '-gx', label='strong error in L^1')\n",
    "    ax.loglog(hv, YTem, '-ro', label='strong error in L^2')\n",
    "    ax.loglog(hL*np.array([1, p]), YTem[-1]*np.array([1, p**0.5]), 'k', label='$h^{1/2}$')\n",
    "    ax.loglog(hL*np.array([1, p]), YTem2[-1]*np.array([1, p**0.5]), 'k--', label='$h^{1/2}$')\n",
    "    ax.legend()\n",
    "    ax.grid(True, which='both')\n",
    "    ax.set_xlabel('step size $h$')\n",
    "    ax.set_ylabel('error')\n",
    "    plt.show()\n"
   ]
  },
  {
   "cell_type": "code",
   "execution_count": 11,
   "id": "3249e6d7",
   "metadata": {},
   "outputs": [
    {
     "ename": "NameError",
     "evalue": "name 'brownp' is not defined",
     "output_type": "error",
     "traceback": [
      "\u001b[1;31m---------------------------------------------------------------------------\u001b[0m",
      "\u001b[1;31mNameError\u001b[0m                                 Traceback (most recent call last)",
      "\u001b[1;32m<ipython-input-11-2781d6186fd4>\u001b[0m in \u001b[0;36m<module>\u001b[1;34m\u001b[0m\n\u001b[1;32m----> 1\u001b[1;33m \u001b[0msde_heston2\u001b[0m\u001b[1;33m(\u001b[0m\u001b[1;33m)\u001b[0m\u001b[1;33m\u001b[0m\u001b[1;33m\u001b[0m\u001b[0m\n\u001b[0m",
      "\u001b[1;32m<ipython-input-10-eb2fb79365dc>\u001b[0m in \u001b[0;36msde_heston2\u001b[1;34m()\u001b[0m\n\u001b[0;32m     25\u001b[0m     \u001b[0mLe\u001b[0m \u001b[1;33m=\u001b[0m \u001b[0mL\u001b[0m \u001b[1;33m+\u001b[0m \u001b[0mextra\u001b[0m\u001b[1;33m\u001b[0m\u001b[1;33m\u001b[0m\u001b[0m\n\u001b[0;32m     26\u001b[0m     \u001b[0mNe\u001b[0m \u001b[1;33m=\u001b[0m \u001b[0mN0\u001b[0m\u001b[1;33m*\u001b[0m\u001b[1;36m2\u001b[0m\u001b[1;33m**\u001b[0m\u001b[0mLe\u001b[0m\u001b[1;33m\u001b[0m\u001b[1;33m\u001b[0m\u001b[0m\n\u001b[1;32m---> 27\u001b[1;33m     \u001b[0mBI\u001b[0m \u001b[1;33m=\u001b[0m \u001b[0mbrownp\u001b[0m\u001b[1;33m(\u001b[0m\u001b[0mT\u001b[0m\u001b[1;33m,\u001b[0m \u001b[0mNe\u001b[0m\u001b[1;33m,\u001b[0m \u001b[0mM\u001b[0m\u001b[1;33m)\u001b[0m              \u001b[1;31m# path of Brownian motion on finest level\u001b[0m\u001b[1;33m\u001b[0m\u001b[1;33m\u001b[0m\u001b[0m\n\u001b[0m\u001b[0;32m     28\u001b[0m     \u001b[0mBII\u001b[0m \u001b[1;33m=\u001b[0m \u001b[0mbrownp\u001b[0m\u001b[1;33m(\u001b[0m\u001b[0mT\u001b[0m\u001b[1;33m,\u001b[0m \u001b[0mNe\u001b[0m\u001b[1;33m,\u001b[0m \u001b[0mM\u001b[0m\u001b[1;33m)\u001b[0m\u001b[1;33m\u001b[0m\u001b[1;33m\u001b[0m\u001b[0m\n\u001b[0;32m     29\u001b[0m     \u001b[0mYT\u001b[0m \u001b[1;33m=\u001b[0m \u001b[0mnp\u001b[0m\u001b[1;33m.\u001b[0m\u001b[0mzeros\u001b[0m\u001b[1;33m(\u001b[0m\u001b[1;33m(\u001b[0m\u001b[0mL\u001b[0m\u001b[1;33m+\u001b[0m\u001b[1;36m2\u001b[0m\u001b[1;33m,\u001b[0m \u001b[0mM\u001b[0m\u001b[1;33m)\u001b[0m\u001b[1;33m)\u001b[0m           \u001b[1;31m# values of X_T for h=T/(N*2^l), l=0,...,Le\u001b[0m\u001b[1;33m\u001b[0m\u001b[1;33m\u001b[0m\u001b[0m\n",
      "\u001b[1;31mNameError\u001b[0m: name 'brownp' is not defined"
     ]
    }
   ],
   "source": [
    "sde_heston2()"
   ]
  },
  {
   "cell_type": "code",
   "execution_count": null,
   "id": "1f4eae34",
   "metadata": {},
   "outputs": [],
   "source": []
  },
  {
   "cell_type": "code",
   "execution_count": null,
   "id": "4c84d6a5",
   "metadata": {},
   "outputs": [],
   "source": []
  }
 ],
 "metadata": {
  "kernelspec": {
   "display_name": "Python 3",
   "language": "python",
   "name": "python3"
  },
  "language_info": {
   "codemirror_mode": {
    "name": "ipython",
    "version": 3
   },
   "file_extension": ".py",
   "mimetype": "text/x-python",
   "name": "python",
   "nbconvert_exporter": "python",
   "pygments_lexer": "ipython3",
   "version": "3.8.8"
  }
 },
 "nbformat": 4,
 "nbformat_minor": 5
}
