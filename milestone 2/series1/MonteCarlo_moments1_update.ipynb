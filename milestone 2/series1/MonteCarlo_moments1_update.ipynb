{
 "cells": [
  {
   "cell_type": "code",
   "execution_count": 42,
   "id": "8a630175",
   "metadata": {},
   "outputs": [],
   "source": [
    "import numpy as np\n",
    "import matplotlib.pyplot as plt\n",
    "from scipy.special import erfinv"
   ]
  },
  {
   "cell_type": "code",
   "execution_count": 43,
   "id": "9f4f2029",
   "metadata": {},
   "outputs": [],
   "source": [
    "def mcc1d(M, a, flag):\n",
    "    '''\n",
    "    Monte-Carlo method to compute the first two moments of a random variable Y=U^{-a},\n",
    "    where U~Unif([0,1]) and a∈(−1,1).\n",
    "    \n",
    "    Parameters:\n",
    "    M (int): number of samples\n",
    "    a (float): coefficient in x^(-a)\n",
    "    flag (int): 1 for CLT bounds, 2 for Chebyshev bounds with q=2, 3 for Chebyshev bounds with q=1/a\n",
    "    \n",
    "    Returns:\n",
    "    y (ndarray): array of shape (2, M), where y[0, :] measures the error and y[1, :] is for confidence level\n",
    "    '''\n",
    "    q = 1 / a\n",
    "    y = np.zeros((2, M))\n",
    "    exact = 1 / (1 - a)\n",
    "    delta = 0.05\n",
    "    \n",
    "    # Generate M samples of U\n",
    "    Z = np.random.rand(M)\n",
    "    \n",
    "    # Compute the corresponding samples of Y\n",
    "    X = 1 / Z**a\n",
    "    \n",
    "    # Compute sample mean and sample variance\n",
    "    mean = np.cumsum(X) / np.arange(1, M + 1)\n",
    "    varest = np.cumsum((X - mean)**2) / np.arange(1, M + 1)\n",
    "    \n",
    "    # Compute qth moment for Chebyshev bounds with q=1/a\n",
    "    qmom = np.cumsum(np.abs(X - mean)**q) / np.arange(1, M + 1)\n",
    "    \n",
    "    # Compute absolute error from exact value\n",
    "    err = np.abs(np.cumsum(X) / np.arange(1, M + 1) - exact)\n",
    "    \n",
    "    if flag == 1:\n",
    "        # Confidence interval (CLT bounds)\n",
    "        am = mean - erfinv(1 - delta) * np.sqrt(2) * np.sqrt(varest / np.arange(1, M + 1))\n",
    "        bm = mean + erfinv(1 - delta) * np.sqrt(2) * np.sqrt(varest / np.arange(1, M + 1))\n",
    "    elif flag == 2:\n",
    "        # Confidence interval (Chebyshev bounds with q=2)\n",
    "        am = mean - delta**(-1/2) * np.sqrt(varest / np.arange(1, M + 1))\n",
    "        bm = mean + delta**(-1/2) * np.sqrt(varest / np.arange(1, M + 1))\n",
    "    elif flag == 3:\n",
    "        # Confidence interval (Chebyshev bounds with q=1/a)\n",
    "        am = mean - delta**(-1/q) * qmom**(1/q) / np.arange(1, M + 1)**(1 - 1/q)\n",
    "        bm = mean + delta**(-1/q) * qmom**(1/q) / np.arange(1, M + 1)**(1 - 1/q)\n",
    "    else:\n",
    "        print('Something is wrong!!')\n",
    "        \n",
    "    # Counts whether the exact mean is in [am, bm]\n",
    "    y[0, :] = (bm > exact) * (am < exact)\n",
    "    y[1, :] = err\n",
    "    \n",
    "    return y\n",
    "\n"
   ]
  },
  {
   "cell_type": "code",
   "execution_count": 44,
   "id": "2a21700c",
   "metadata": {},
   "outputs": [],
   "source": [
    "def cconflevel(a, M, K):\n",
    "    '''\n",
    "    Computes the confidence level for Monte Carlo simulation with mcc1d function, \n",
    "    using either CLT bounds or Chebyshev bounds with q=2 or q=1/a.\n",
    "    \n",
    "    Parameters:\n",
    "   \n",
    "    Returns:\n",
    "    None\n",
    "    '''\n",
    "    flag = 1\n",
    "    import numpy as np\n",
    "    y = np.zeros((2, M)) # y[0, :] measures the error, y[1, :] is for confidence level\n",
    "\n",
    "    if a > 0.5:\n",
    "        print('Variance does not exist!!')\n",
    "\n",
    "    for k in range(K):\n",
    "        y += mcc1d(M, a, flag)\n",
    "\n",
    "    Np = 10\n",
    "    import numpy as np\n",
    "    Mp = np.arange(Np, M + 1, Np)\n",
    "    yp = y[:, Np - 1::Np] / K\n",
    "\n",
    "    M1, M2 = Mp[0], Mp[-1]\n",
    "\n",
    "    import numpy as np\n",
    "\n",
    "  \n",
    "    plt.subplot(2, 1, 1)\n",
    "    plt.loglog(Mp, yp[1, :], 'b', [M1, M2], yp[1, -1] * np.array([(M1 / M2)**-0.5, 1]), 'r',\n",
    "               [M1, M2], yp[1, -1] * np.array([(M1 / M2)**-(1/3), 1]), 'g')\n",
    "    plt.legend(['|mu-mu_m|', 'm^{-0.5}', 'm^{-1/3}'])\n",
    "\n",
    "    plt.subplot(2, 1, 2)\n",
    "    plt.plot(Mp, yp[0, :])\n",
    "    plt.legend(['Confidence level'])\n"
   ]
  },
  {
   "cell_type": "code",
   "execution_count": 50,
   "id": "ab11ce74",
   "metadata": {},
   "outputs": [
    {
     "name": "stderr",
     "output_type": "stream",
     "text": [
      "<ipython-input-43-144423c2b5e8>:30: RuntimeWarning: divide by zero encountered in power\n",
      "  qmom = np.cumsum(np.abs(X - mean)**q) / np.arange(1, M + 1)\n"
     ]
    },
    {
     "data": {
      "image/png": "[encoded data removed]",
      "text/plain": [
       "<Figure size 432x288 with 2 Axes>"
      ]
     },
     "metadata": {
      "needs_background": "light"
     },
     "output_type": "display_data"
    }
   ],
   "source": [
    "cconflevel(-2/5,100000,1000)"
   ]
  },
  {
   "cell_type": "markdown",
   "id": "924bc4f6",
   "metadata": {},
   "source": [
    "Run the above mentioned algorithm $K=10^3$ times and plot $M$ on the horizontal axis and the average of $|\\mu-\\bar{Y}_M|$ over all $K$ runs on the vertical axis, using logarithmic scale for both the axis. Compare it with the line $CM^{-\\frac{1}{2}}$.\n",
    "\n",
    "Plot your results with $M$ on the horizontal axis, and the percentage of how often $\\mu\\in[a_M,b_M]$ over all $K$ runs on the vertical axis."
   ]
  },
  {
   "cell_type": "markdown",
   "id": "aafed60d",
   "metadata": {},
   "source": [
    "It is clear from the graph that the the average error after $K=1,000$ runs almost coincides with the line $CM^{-\\frac{1}{2}}$, which is what theory suggests. From the confidence level plot, it is clear that the level stabilizes around 0.95 as $M$ grows for the CLT bounds."
   ]
  }
 ],
 "metadata": {
  "kernelspec": {
   "display_name": "Python 3",
   "language": "python",
   "name": "python3"
  },
  "language_info": {
   "codemirror_mode": {
    "name": "ipython",
    "version": 3
   },
   "file_extension": ".py",
   "mimetype": "text/x-python",
   "name": "python",
   "nbconvert_exporter": "python",
   "pygments_lexer": "ipython3",
   "version": "3.8.8"
  }
 },
 "nbformat": 4,
 "nbformat_minor": 5
}
