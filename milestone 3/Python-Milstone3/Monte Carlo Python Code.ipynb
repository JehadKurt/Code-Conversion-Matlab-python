{
 "cells": [
  {
   "cell_type": "markdown",
   "id": "19e25b11",
   "metadata": {},
   "source": [
    "#### Import Libraries "
   ]
  },
  {
   "cell_type": "code",
   "execution_count": 40,
   "id": "4a664d4c",
   "metadata": {},
   "outputs": [],
   "source": [
    "import matplotlib.pyplot as plt\n",
    "from scipy.stats import norm\n",
    "import numpy as np\n",
    "from scipy.stats import norm\n",
    "from math import exp, sqrt\n",
    "import math"
   ]
  },
  {
   "cell_type": "markdown",
   "id": "1d420d95",
   "metadata": {},
   "source": [
    "#### AmPutLattice Function"
   ]
  },
  {
   "cell_type": "code",
   "execution_count": 2,
   "id": "8825aeae",
   "metadata": {},
   "outputs": [],
   "source": [
    "def AmPutLattice(S0, K, r, T, sigma, N):\n",
    "    # Precompute invariant quantities\n",
    "    deltaT = T/N\n",
    "    u = np.exp(sigma * np.sqrt(deltaT))\n",
    "    d = 1/u\n",
    "    p = (np.exp(r*deltaT) - d)/(u-d)\n",
    "    discount = np.exp(-r*deltaT)\n",
    "    p_u = discount*p\n",
    "    p_d = discount*(1-p)\n",
    "    \n",
    "    # set up S values\n",
    "    SVals = np.zeros(2*N+1)\n",
    "    SVals[N] = S0\n",
    "    for i in range(1, N+1):\n",
    "        SVals[N+i] = u*SVals[N+i-1]\n",
    "        SVals[N-i] = d*SVals[N-i+1]\n",
    "    \n",
    "    # set up terminal values\n",
    "    PVals = np.zeros(2*N+1)\n",
    "    for i in range(0, 2*N+1, 2):\n",
    "        PVals[i] = max(K-SVals[i], 0)\n",
    "    \n",
    "    # work backwards\n",
    "    for tau in range(1, N+1):\n",
    "        for i in range(tau+1, 2*N-tau+1, 2):\n",
    "            hold = p_u*PVals[i+1] + p_d*PVals[i-1]\n",
    "            PVals[i] = max(hold, K-SVals[i])\n",
    "    \n",
    "    price = PVals[N]\n",
    "    print(sigma)\n",
    "    return round(price,4)"
   ]
  },
  {
   "cell_type": "markdown",
   "id": "72f23d07",
   "metadata": {},
   "source": [
    "#### AmPutLattice Test"
   ]
  },
  {
   "cell_type": "code",
   "execution_count": 3,
   "id": "5278adcc",
   "metadata": {},
   "outputs": [
    {
     "name": "stdout",
     "output_type": "stream",
     "text": [
      "0.4\n",
      "4.6697\n"
     ]
    }
   ],
   "source": [
    "S0 = 50\n",
    "K = 50\n",
    "r = 0.05\n",
    "T = 5/12\n",
    "sigma = 0.4\n",
    "N = 1000\n",
    "print(AmPutLattice(S0, K, r, T, sigma, N))\n"
   ]
  },
  {
   "cell_type": "markdown",
   "id": "79121986",
   "metadata": {},
   "source": [
    "#### Asian MC Function"
   ]
  },
  {
   "cell_type": "code",
   "execution_count": 23,
   "id": "bf156e09",
   "metadata": {},
   "outputs": [],
   "source": [
    "def AssetPaths(S0, mu, sigma, T, NSteps, NRepl):\n",
    "    SPaths = np.zeros((NRepl, NSteps+1))\n",
    "    SPaths[:, 0] = S0\n",
    "    dt = T/NSteps\n",
    "    nudt = (mu-0.5*sigma**2)*dt\n",
    "    sidt = sigma*np.sqrt(dt)\n",
    "    for i in range(NRepl):\n",
    "        for j in range(NSteps):\n",
    "            SPaths[i, j+1] = SPaths[i, j]*np.exp(nudt + sidt*np.random.normal())\n",
    "    return SPaths"
   ]
  },
  {
   "cell_type": "code",
   "execution_count": 24,
   "id": "fbbc23ac",
   "metadata": {},
   "outputs": [],
   "source": [
    "def AsianMC(S0, K, r, T, sigma, NSamples, NRepl):\n",
    "    Payoff = np.zeros((NRepl, ))\n",
    "    for i in range(NRepl):\n",
    "        Path = AssetPaths(S0, r, sigma, T, NSamples, 1)\n",
    "        Payoff[i] = max(0, np.mean(Path[0, 1:(NSamples+1)]) - K)\n",
    "    P1 = np.mean(np.exp(-r*T)*Payoff)\n",
    "    se = np.std(np.exp(-r*T)*Payoff, ddof=1)/np.sqrt(NRepl)\n",
    "    alpha = 0.05\n",
    "    CI1 = norm.interval(1-alpha, loc=P1, scale=se)\n",
    "    return 'P1:', P1, 'CI:' , CI1"
   ]
  },
  {
   "cell_type": "markdown",
   "id": "ae280be3",
   "metadata": {},
   "source": [
    "#### AsianMCCV Function"
   ]
  },
  {
   "cell_type": "code",
   "execution_count": 25,
   "id": "edbb8669",
   "metadata": {},
   "outputs": [],
   "source": [
    "def AsianMCCV(S0,K,r,T,sigma,NSamples,NRepl,NPilot):\n",
    "    # pilot replications to set control parameter\n",
    "    TryPath=AssetPaths(S0,r,sigma,T,NSamples,NPilot)\n",
    "    StockSum = np.sum(TryPath,1)\n",
    "    PP = np.mean(TryPath[:,1:(NSamples+1)],1)\n",
    "    TryPayoff = np.exp(-r*T) * np.maximum(0, PP - K)\n",
    "    MatCov = np.cov(StockSum, TryPayoff)\n",
    "    c = - MatCov[0,1] / np.var(StockSum)\n",
    "    dt = T / NSamples\n",
    "    ExpSum = S0 * (1 - np.exp((NSamples + 1)*r*dt)) / (1 - np.exp(r*dt))\n",
    "    \n",
    "    # MC run with control variates and bootstrapping\n",
    "    ControlVars = np.zeros(NRepl)\n",
    "    for i in range(NRepl):\n",
    "        StockPath = AssetPaths(S0,r,sigma,T,NSamples,1)\n",
    "        Payoff = np.exp(-r*T) * np.maximum(0, np.mean(StockPath[:,1:(NSamples+1)],1) - K)\n",
    "        ControlVars[i] = Payoff + c * (np.sum(StockPath) - ExpSum)\n",
    "    \n",
    "    # bootstrap for confidence interval\n",
    "    resamples = np.random.choice(ControlVars, size=(NRepl, NRepl), replace=True)\n",
    "    bootstrap_means = np.mean(resamples, axis=1)\n",
    "    ci_lower, ci_upper = np.percentile(bootstrap_means, [2.5, 97.5])\n",
    "    P2 = np.mean(ControlVars)\n",
    "    CI2 = (ci_lower, ci_upper)\n",
    "    return 'P2:', P2, \"CI2:\", CI2\n"
   ]
  },
  {
   "cell_type": "markdown",
   "id": "d09738fa",
   "metadata": {},
   "source": [
    "#### GeometricAsian Function"
   ]
  },
  {
   "cell_type": "code",
   "execution_count": 26,
   "id": "55ef3739",
   "metadata": {},
   "outputs": [],
   "source": [
    "def GeometricAsian(S0, K, r, T, sigma, delta, NSamples):\n",
    "    dT = T / NSamples\n",
    "    nu = r - sigma**2/2 - delta\n",
    "    a = np.log(S0) + nu * dT * NSamples + 0.5 * nu * (T - dT * NSamples)\n",
    "    b = sigma**2 * dT * NSamples * (NSamples + 1) * (2 * NSamples + 1) / 6 / NSamples**2\n",
    "    x = (a - np.log(K) + b) / np.sqrt(b)\n",
    "    P = np.exp(-r * T) * (np.exp(a + b/1.372) * norm.cdf(x) - K * norm.cdf(x - np.sqrt(b)))\n",
    "    return P\n",
    "def AssetPaths1(S0, r, sigma, T, NSamples, NRepl):\n",
    "    dt = T / NSamples\n",
    "    nu = r - 0.5 * sigma**2\n",
    "    S = np.zeros((NSamples + 1, NRepl))\n",
    "    S[0] = S0\n",
    "    for t in range(1, NSamples + 1):\n",
    "        S[t] = S[t-1] * np.exp(nu * dt + sigma * np.sqrt(dt) * np.random.randn(NRepl))\n",
    "    return S"
   ]
  },
  {
   "cell_type": "markdown",
   "id": "5c172d26",
   "metadata": {},
   "source": [
    "#### AsianMCGeoCV Function"
   ]
  },
  {
   "cell_type": "code",
   "execution_count": 27,
   "id": "e5ed6621",
   "metadata": {},
   "outputs": [],
   "source": [
    "def AsianMCGeoCV(S0, K, r, T, sigma, NSamples, NRepl, NPilot):\n",
    "    # precompute quantities\n",
    "    DF = np.exp(-r * T)\n",
    "    GeoExact = GeometricAsian(S0, K, r, T, sigma, 0, NSamples)\n",
    "    # pilot replications to set control parameter\n",
    "    GeoPrices = np.zeros(NPilot)\n",
    "    AriPrices = np.zeros(NPilot)\n",
    "    for i in range(NPilot):\n",
    "        Path = AssetPaths1(S0, r, sigma, T, NSamples, 1)\n",
    "        GeoPrices[i] = DF * max(0, np.power(np.prod(Path[1:(NSamples+1)]), 1/NSamples) - K)\n",
    "        AriPrices[i] = DF * max(0, np.mean(Path[1:(NSamples+1)]) - K)\n",
    "    MatCov = np.cov(GeoPrices, AriPrices)\n",
    "    c = - MatCov[0, 1] / np.var(GeoPrices, ddof=1)\n",
    "    # MC run\n",
    "    ControlVars = np.zeros(NRepl)\n",
    "    for i in range(NRepl):\n",
    "        Path = AssetPaths1(S0, r, sigma, T, NSamples, 1)\n",
    "        GeoPrice = DF * max(0, np.power(np.prod(Path[1:(NSamples+1)]), 1/NSamples) - K)\n",
    "        AriPrice = DF * max(0, np.mean(Path[1:(NSamples+1)]) - K)\n",
    "        ControlVars[i] = AriPrice + c * (GeoPrice - GeoExact)\n",
    "    P = np.mean(ControlVars)\n",
    "    # two-sided confidence interval\n",
    "    bootstrap_means = np.zeros(NRepl)\n",
    "    for i in range(NRepl):\n",
    "        resamples = np.random.choice(ControlVars, size=NRepl, replace=True)\n",
    "        bootstrap_means[i] = np.mean(resamples)\n",
    "    ci_lower, ci_upper = np.percentile(bootstrap_means, [5, 95])\n",
    "    CI = (ci_lower, ci_upper)\n",
    "    return \"P3:\", P, \"CI3:\",  CI"
   ]
  },
  {
   "cell_type": "markdown",
   "id": "ecbd6371",
   "metadata": {},
   "source": [
    "#### Asian Compare Test"
   ]
  },
  {
   "cell_type": "code",
   "execution_count": 28,
   "id": "222e02c4",
   "metadata": {},
   "outputs": [
    {
     "name": "stdout",
     "output_type": "stream",
     "text": [
      "('P1:', 3.458078439249151, 'CI:', (3.3166100043035827, 3.599546874194719))\n",
      "('P2:', 3.42226384462163, 'CI2:', (3.3455610180882926, 3.4995921816571456))\n",
      "('P3:', 3.45149915113709, 'CI3:', (3.442903566841964, 3.4604285982583365))\n"
     ]
    }
   ],
   "source": [
    "\n",
    "np.random.seed(0)\n",
    "S0 = 50\n",
    "K = 55\n",
    "r = 0.05\n",
    "sigma = 0.4\n",
    "T = 1\n",
    "NSamples = 12\n",
    "NRepl = 9000\n",
    "NPilot = 1000\n",
    "print(AsianMC(S0, K, r, T, sigma, NSamples, NRepl+NPilot))\n",
    "print(AsianMCCV(S0,K,r,T,sigma,NSamples,NRepl,NPilot))\n",
    "print(AsianMCGeoCV(S0, K, r, T, sigma, NSamples, NRepl, NPilot))\n"
   ]
  },
  {
   "cell_type": "markdown",
   "id": "aae4dad8",
   "metadata": {},
   "source": [
    "#### DOPutMC Function"
   ]
  },
  {
   "cell_type": "code",
   "execution_count": 60,
   "id": "4b0f8323",
   "metadata": {},
   "outputs": [],
   "source": [
    "def blsprice(S0, K, r, T, sigma):\n",
    "    d1 = (np.log(S0/K) + (r + 0.5*sigma**2)*T) / (sigma*np.sqrt(T))\n",
    "    d2 = d1 - sigma*np.sqrt(T)\n",
    "    Call = S0 * norm.cdf(d1) - K*np.exp(-r*T) * norm.cdf(d2)\n",
    "    Put = K*np.exp(-r*T) * norm.cdf(-d2) - S0 * norm.cdf(-d1)\n",
    "    return Call, Put"
   ]
  },
  {
   "cell_type": "code",
   "execution_count": 61,
   "id": "dab11543",
   "metadata": {},
   "outputs": [],
   "source": [
    "def DOPutMC(S0, K, r, T, sigma, Sb, NSteps, NRepl):\n",
    "    np.random.seed(0)\n",
    "    Call, Put = blsprice(S0, K, r, T, sigma)\n",
    "    Payoff = np.zeros(NRepl)\n",
    "    NCrossed = 0\n",
    "    for i in range(NRepl):\n",
    "        Path = AssetPaths1(S0, r, sigma, T, NSteps, 1)\n",
    "        crossed = np.any(Path <= Sb)\n",
    "        if not crossed:\n",
    "            Payoff[i] = max(0, K - Path[NSteps])\n",
    "        else:\n",
    "            Payoff[i] = 0\n",
    "            NCrossed += 1\n",
    "    P, CI = norm.fit(np.exp(-r*T) * Payoff)\n",
    "    return  P, CI \n"
   ]
  },
  {
   "cell_type": "markdown",
   "id": "83214900",
   "metadata": {},
   "source": [
    "#### DOPutMC Test"
   ]
  },
  {
   "cell_type": "code",
   "execution_count": 62,
   "id": "0a114d81",
   "metadata": {},
   "outputs": [
    {
     "name": "stdout",
     "output_type": "stream",
     "text": [
      "sigma: 0.4\n",
      "P = 1.3593543709948674\n"
     ]
    }
   ],
   "source": [
    "S0 = 50\n",
    "K = 50\n",
    "r = 0.1\n",
    "T = 2/12\n",
    "sigma = 0.4\n",
    "Sb = 40\n",
    "NSteps = 60\n",
    "NRepl = 50000\n",
    "\n",
    "P, CI = DOPutMC(S0, K, r, T, sigma, Sb, NSteps, NRepl)\n",
    "print(\"sigma:\" ,sigma)\n",
    "print(\"P =\", P)"
   ]
  },
  {
   "cell_type": "markdown",
   "id": "dfb6301e",
   "metadata": {},
   "source": [
    "#### DOPutMCCond Function"
   ]
  },
  {
   "cell_type": "code",
   "execution_count": 63,
   "id": "45e0ed6e",
   "metadata": {},
   "outputs": [],
   "source": [
    "np.random.seed(0)\n",
    "def DOPutMCCond(S0, K, r, T, sigma, Sb, NSteps, NRepl):\n",
    "    dt = T/NSteps\n",
    "    Call, Put = blsprice(S0, K, r, T, sigma)\n",
    "    \n",
    "    # Generate asset paths and payoffs for the down and in option\n",
    "    NCrossed = 0\n",
    "    Payoff = np.zeros(NRepl)\n",
    "    Times = np.zeros(NRepl)\n",
    "    StockVals = np.zeros(NRepl)\n",
    "    for i in range(NRepl):\n",
    "        Path = AssetPaths(S0, r, sigma, T, NSteps, 1)\n",
    "        try:\n",
    "            tcrossed = np.min(np.where(Path <= Sb)[1])\n",
    "        except ValueError:\n",
    "            tcrossed = np.nan\n",
    "        if not np.isnan(tcrossed):\n",
    "            NCrossed += 1\n",
    "            Times[NCrossed-1] = (tcrossed-1) * dt\n",
    "            StockVals[NCrossed-1] = Path[0,tcrossed]\n",
    "    \n",
    "    if NCrossed > 0:\n",
    "        Caux, Paux = blsprice(StockVals[:NCrossed], K, r, T-Times[:NCrossed], sigma)\n",
    "        Payoff[:NCrossed] = np.exp(-r*Times[:NCrossed]) * Paux\n",
    "    \n",
    "    Pdo, CI = norm.fit(Put - Payoff)\n",
    "    return Pdo, CI, NCrossed\n"
   ]
  },
  {
   "cell_type": "markdown",
   "id": "bb03f39d",
   "metadata": {},
   "source": [
    "#### DOPutMCCond Test"
   ]
  },
  {
   "cell_type": "code",
   "execution_count": 64,
   "id": "088616f0",
   "metadata": {},
   "outputs": [
    {
     "name": "stdout",
     "output_type": "stream",
     "text": [
      "sigma =  0.4\n",
      "Pdo  3.8632978794995254\n"
     ]
    }
   ],
   "source": [
    "\n",
    "# Test the function\n",
    "S0 = 50\n",
    "K = 52\n",
    "r = 0.1\n",
    "T = 2/12\n",
    "sigma = 0.4\n",
    "Sb = 30\n",
    "NSteps = 60\n",
    "NRepl = 200000\n",
    "Pdo, CI, NCrossed = DOPutMCCond(S0, K, r, T, sigma, Sb, NSteps, NRepl)\n",
    "\n",
    "print(\"sigma = \", sigma)\n",
    "print(\"Pdo \", Pdo)\n"
   ]
  },
  {
   "cell_type": "markdown",
   "id": "149d3cf9",
   "metadata": {},
   "source": [
    "#### DOPutMCCondIS Function"
   ]
  },
  {
   "cell_type": "code",
   "execution_count": 65,
   "id": "e089a77e",
   "metadata": {},
   "outputs": [],
   "source": [
    "def DOPutMCCondIS(S0, K, r, T, sigma, Sb, NSteps, NRepl, bp):\n",
    "    dt = T / NSteps\n",
    "    nudt = (r - 0.5 * sigma ** 2) * dt\n",
    "    b = bp * nudt\n",
    "    sidt = sigma * math.sqrt(dt)\n",
    "    Call, Put = blsprice(S0, K, r, T, sigma)\n",
    "    NCrossed = 0\n",
    "    Payoff = np.zeros(NRepl)\n",
    "    Times = np.zeros(NRepl)\n",
    "    StockVals = np.zeros(NRepl)\n",
    "    ISRatio = np.zeros(NRepl)\n",
    "    for i in range(NRepl):\n",
    "        vetZ = nudt - b + sidt * np.random.randn(NSteps)\n",
    "        LogPath = np.cumsum(np.concatenate(([np.log(S0)], vetZ)))\n",
    "        Path = np.exp(LogPath)\n",
    "        jcrossed = None\n",
    "        indices = np.where(Path <= Sb)[0]\n",
    "        if len(indices) > 0:\n",
    "            jcrossed = np.min(indices)\n",
    "        if jcrossed is not None:\n",
    "            NCrossed += 1\n",
    "            TBreach = jcrossed - 1\n",
    "            Times[NCrossed - 1] = TBreach * dt\n",
    "            StockVals[NCrossed - 1] = Path[jcrossed]\n",
    "            ISRatio[NCrossed - 1] = np.exp(\n",
    "                TBreach * b ** 2 / 2 / sigma ** 2 / dt + \n",
    "                b / sigma ** 2 / dt * np.sum(vetZ[0:TBreach]) -\n",
    "                TBreach * b / sigma ** 2 * (r - sigma ** 2 / 2)\n",
    "            )\n",
    "    if NCrossed > 0:\n",
    "        Caux, Paux = blsprice(StockVals[0:NCrossed], K, r,\n",
    "                              T - Times[0:NCrossed], sigma)\n",
    "        Payoff[0:NCrossed] = np.exp(-r * Times[0:NCrossed]) * Paux * ISRatio[0:NCrossed]\n",
    "    Pdo, CI = norm.fit(Put - Payoff)\n",
    "    return Pdo, CI, NCrossed\n"
   ]
  },
  {
   "cell_type": "markdown",
   "id": "90de50d9",
   "metadata": {},
   "source": [
    "#### DOPutMCCondIS Test"
   ]
  },
  {
   "cell_type": "code",
   "execution_count": 66,
   "id": "691a64f2",
   "metadata": {},
   "outputs": [
    {
     "name": "stdout",
     "output_type": "stream",
     "text": [
      "3.8632978794995254\n",
      "3.862039640573587\n",
      "3.8577011795486147\n"
     ]
    }
   ],
   "source": [
    "S0 = 50\n",
    "K = 52\n",
    "r = 0.1\n",
    "T = 2 / 12\n",
    "sigma = 0.4\n",
    "Sb = 30\n",
    "NSteps = 60\n",
    "NRepl = 200000\n",
    "\n",
    "b0 = 0\n",
    "np.random.seed(0)\n",
    "Pdo, CI, NCrossed = DOPutMCCondIS(S0, K, r, T, sigma, Sb, NSteps, NRepl, b0)\n",
    "print(Pdo)\n",
    "\n",
    "b0 = 20\n",
    "np.random.seed(0)\n",
    "Pdo, CI, NCrossed = DOPutMCCondIS(S0, K, r, T, sigma, Sb, NSteps, NRepl, b0)\n",
    "print(Pdo)\n",
    "\n",
    "b0 = 50\n",
    "np.random.seed(0)\n",
    "Pdo, CI, NCrossed = DOPutMCCondIS(S0, K, r, T, sigma, Sb, NSteps, NRepl, b0)\n",
    "print(Pdo)"
   ]
  },
  {
   "cell_type": "markdown",
   "id": "dfea7fda",
   "metadata": {},
   "source": [
    "#### EuCallTrinomial Function"
   ]
  },
  {
   "cell_type": "code",
   "execution_count": 67,
   "id": "7d8b7533",
   "metadata": {},
   "outputs": [],
   "source": [
    "def EuCallTrinomial(S0, K, r, T, sigma, N, deltaX):\n",
    "    # Precompute invariant quantities\n",
    "    deltaT = T/N\n",
    "    nu = r - 0.5*sigma**2\n",
    "    discount = np.exp(-r*deltaT)\n",
    "    p_u = discount*0.5*((sigma**2*deltaT+nu**2*deltaT**2)/deltaX**2 + nu*deltaT/deltaX)\n",
    "    p_m = discount*(1 - (sigma**2*deltaT+nu**2*deltaT**2)/deltaX**2)\n",
    "    p_d = discount*0.5*((sigma**2*deltaT+nu**2*deltaT**2)/deltaX**2 - nu*deltaT/deltaX)\n",
    "    \n",
    "    # set up S values (at maturity)\n",
    "    Svals = np.zeros(2*N+1)\n",
    "    Svals[0] = S0*np.exp(-N*deltaX)\n",
    "    for j in range(1, 2*N+1):\n",
    "        Svals[j] = np.exp(deltaX)*Svals[j-1]\n",
    "    \n",
    "    # set up lattice and terminal values\n",
    "    Cvals = np.zeros((2*N+1, 2))\n",
    "    t = N % 2\n",
    "    for j in range(2*N+1):\n",
    "        Cvals[j,t] = max(Svals[j]-K, 0)\n",
    "    \n",
    "    for t in range(N-1, -1, -1):\n",
    "        know = t % 2\n",
    "        knext = (t+1) % 2\n",
    "        for j in range(N-t, N+t+1):\n",
    "            Cvals[j,know] = p_d*Cvals[j-1,knext] + p_m*Cvals[j,knext] + p_u*Cvals[j+1,knext]\n",
    "    \n",
    "    price = Cvals[N,0]\n",
    "    return price"
   ]
  },
  {
   "cell_type": "markdown",
   "id": "d8160ae9",
   "metadata": {},
   "source": [
    "#### EuCallTrinomial test "
   ]
  },
  {
   "cell_type": "code",
   "execution_count": 68,
   "id": "afd60360",
   "metadata": {},
   "outputs": [
    {
     "name": "stdout",
     "output_type": "stream",
     "text": [
      "Sigma: 0.3 \n",
      " 14.0715253404263\n",
      "DeltaX =  0.5 \n",
      " 10.934453552002916\n",
      "14.686913681699451\n",
      "N=  1000 \n",
      " 14.714053134172694\n"
     ]
    }
   ],
   "source": [
    "# Example usage\n",
    "S0 = 100\n",
    "K = 100\n",
    "r = 0.06\n",
    "T = 1\n",
    "sigma = 0.3\n",
    "N = 100\n",
    "deltaX = 0.2\n",
    "#print(\"Sigma:\" ,sigma)\n",
    "print(\"Sigma:\" ,sigma,\"\\n\", EuCallTrinomial(S0,K,r,T,sigma,N,deltaX))\n",
    "\n",
    "deltaX = 0.5\n",
    "print(\"DeltaX = \",deltaX, \"\\n\", EuCallTrinomial(S0,K,r,T,sigma,N,deltaX))\n",
    "\n",
    "deltaX = sigma*np.sqrt(T/N)\n",
    "print(EuCallTrinomial(S0,K,r,T,sigma,N,deltaX))\n",
    "\n",
    "N = 1000\n",
    "deltaX = sigma*np.sqrt(T/N)\n",
    "print(\"N= \",N, \"\\n\",EuCallTrinomial(S0,K,r,T,sigma,N,deltaX))"
   ]
  },
  {
   "cell_type": "markdown",
   "id": "f03c4e8f",
   "metadata": {},
   "source": [
    "#### Plot BSL Function"
   ]
  },
  {
   "cell_type": "code",
   "execution_count": 69,
   "id": "14f8390a",
   "metadata": {},
   "outputs": [],
   "source": [
    "def PlotBLS(S0, X, r , sigma):\n",
    "\n",
    "    for T in np.arange(2, -0.25, -0.24999):\n",
    "        plt.plot(S0, norm.cdf((np.log(S0/X) + (r + 0.5*sigma**2)*T) / (sigma*np.sqrt(T))) * S0 \n",
    "                 - norm.cdf((np.log(S0/X) + (r - 0.5*sigma**2)*T) / (sigma*np.sqrt(T))) * X * np.exp(-r*T))\n",
    "\n",
    "    plt.axis([30, 70, -5, 35])\n",
    "    plt.grid(True)\n",
    "    plt.show()"
   ]
  },
  {
   "cell_type": "markdown",
   "id": "b61c8f2f",
   "metadata": {},
   "source": [
    "#### Plot BSL "
   ]
  },
  {
   "cell_type": "code",
   "execution_count": 70,
   "id": "da3cc2ed",
   "metadata": {},
   "outputs": [
    {
     "name": "stderr",
     "output_type": "stream",
     "text": [
      "C:\\Users\\Jehad\\AppData\\Local\\Temp\\ipykernel_11824\\3890009288.py:4: RuntimeWarning: invalid value encountered in sqrt\n",
      "  plt.plot(S0, norm.cdf((np.log(S0/X) + (r + 0.5*sigma**2)*T) / (sigma*np.sqrt(T))) * S0\n",
      "C:\\Users\\Jehad\\AppData\\Local\\Temp\\ipykernel_11824\\3890009288.py:5: RuntimeWarning: invalid value encountered in sqrt\n",
      "  - norm.cdf((np.log(S0/X) + (r - 0.5*sigma**2)*T) / (sigma*np.sqrt(T))) * X * np.exp(-r*T))\n"
     ]
    },
    {
     "data": {
      "image/png": "[encoded data removed]",
      "text/plain": [
       "<Figure size 640x480 with 1 Axes>"
      ]
     },
     "metadata": {},
     "output_type": "display_data"
    }
   ],
   "source": [
    "S0 = np.arange(30, 71, 1)\n",
    "X = 50\n",
    "r = 0.08\n",
    "sigma = 0.4\n",
    "PlotBLS(S0, X, r , sigma)\n"
   ]
  },
  {
   "cell_type": "markdown",
   "id": "9fbd784f",
   "metadata": {},
   "source": [
    "#### SmartEurLattice Function"
   ]
  },
  {
   "cell_type": "code",
   "execution_count": 71,
   "id": "db0db9ce",
   "metadata": {},
   "outputs": [],
   "source": [
    "def SmartEurLattice(S0, K, r, T, sigma, N):\n",
    "    # Precompute invariant quantities\n",
    "    deltaT = T/N\n",
    "    u = np.exp(sigma * np.sqrt(deltaT))\n",
    "    d = 1/u\n",
    "    p = (np.exp(r*deltaT) - d)/(u-d)\n",
    "    discount = np.exp(-r*deltaT)\n",
    "    p_u = discount*p\n",
    "    p_d = discount*(1-p)\n",
    "    \n",
    "    # set up S values\n",
    "    SVals = np.zeros(2*N+1)\n",
    "    SVals[0] = S0*d**N\n",
    "    for i in range(1, 2*N+1):\n",
    "        SVals[i] = u*SVals[i-1]\n",
    "        \n",
    "    # set up terminal CALL values\n",
    "    CVals = np.zeros(2*N+1)\n",
    "    for i in range(0, 2*N+1, 2):\n",
    "        CVals[i] = max(SVals[i]-K, 0)\n",
    "    \n",
    "    # work backwards\n",
    "    for tau in range(N-1, -1, -1):\n",
    "        for i in range(0, 2*tau+1):\n",
    "            SVals[i] = d*SVals[i+1]\n",
    "            CVals[i] = p_u*CVals[i+2] + p_d*CVals[i]\n",
    "            CVals[i] = max(CVals[i], SVals[i]-K)\n",
    "            \n",
    "    return CVals[0]"
   ]
  },
  {
   "cell_type": "markdown",
   "id": "7d7c0bca",
   "metadata": {},
   "source": [
    "#### SmartEurLattice Test"
   ]
  },
  {
   "cell_type": "code",
   "execution_count": 72,
   "id": "ac262cf1",
   "metadata": {},
   "outputs": [],
   "source": [
    "def blsprice1(S0, K, r, T, sigma):\n",
    "    d1 = (np.log(S0/K) + (r + 0.5*sigma**2)*T) / (sigma*np.sqrt(T))\n",
    "    d2 = d1 - sigma*np.sqrt(T)\n",
    "    Nd1 = 0.5 + 0.5*np.math.erf(d1/np.sqrt(2))\n",
    "    Nd2 = 0.5 + 0.5*np.math.erf(d2/np.sqrt(2))\n",
    "    return S0*Nd1 - K*np.exp(-r*T)*Nd2"
   ]
  },
  {
   "cell_type": "code",
   "execution_count": 73,
   "id": "74a4196e",
   "metadata": {},
   "outputs": [
    {
     "name": "stdout",
     "output_type": "stream",
     "text": [
      "6.116508129330871\n"
     ]
    }
   ],
   "source": [
    "S0 = 50\n",
    "K = 50\n",
    "r = 0.1\n",
    "T = 5/12\n",
    "sigma = 0.4\n",
    "N = 50\n",
    "\n",
    "BlsC = blsprice1(S0, K, r, T, sigma)\n",
    "print(BlsC)\n"
   ]
  },
  {
   "cell_type": "markdown",
   "id": "1238d3c9",
   "metadata": {},
   "source": [
    "#### SmartEurLattice Accuracy "
   ]
  },
  {
   "cell_type": "code",
   "execution_count": 74,
   "id": "3a16ea23",
   "metadata": {},
   "outputs": [
    {
     "data": {
      "image/png": "[encoded data removed]",
      "text/plain": [
       "<Figure size 640x480 with 1 Axes>"
      ]
     },
     "metadata": {},
     "output_type": "display_data"
    }
   ],
   "source": [
    "S0 = 50\n",
    "K = 50\n",
    "r = 0.1\n",
    "T = 5/12\n",
    "sigma = 0.4\n",
    "N = 50\n",
    "\n",
    "BlsC = blsprice1(S0, K, r, T, sigma)\n",
    "LatticeC = np.zeros(N)\n",
    "for i in range(N):\n",
    "    LatticeC[i] = SmartEurLattice(S0, K, r, T, sigma, i+1)\n",
    "plt.plot(range(1, N+1), np.ones(N)+BlsC)\n",
    "plt.plot(range(1, N+1), LatticeC)\n",
    "plt.grid(True)\n",
    "plt.show()"
   ]
  },
  {
   "cell_type": "markdown",
   "id": "9301cb7b",
   "metadata": {},
   "source": []
  },
  {
   "cell_type": "code",
   "execution_count": null,
   "id": "a7dec163",
   "metadata": {},
   "outputs": [],
   "source": []
  }
 ],
 "metadata": {
  "kernelspec": {
   "display_name": "Python 3 (ipykernel)",
   "language": "python",
   "name": "python3"
  },
  "language_info": {
   "codemirror_mode": {
    "name": "ipython",
    "version": 3
   },
   "file_extension": ".py",
   "mimetype": "text/x-python",
   "name": "python",
   "nbconvert_exporter": "python",
   "pygments_lexer": "ipython3",
   "version": "3.10.9"
  }
 },
 "nbformat": 4,
 "nbformat_minor": 5
}
